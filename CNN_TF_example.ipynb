{
 "cells": [
  {
   "cell_type": "code",
   "execution_count": 2,
   "id": "inside-contact",
   "metadata": {},
   "outputs": [],
   "source": [
    "import itertools\n",
    "\n",
    "import tensorflow as tf\n",
    "import numpy as np\n",
    "import matplotlib as mpl\n",
    "import matplotlib.pyplot as plt\n",
    "\n",
    "from tensorflow.keras import datasets\n",
    "from tensorflow.keras import layers\n",
    "from tensorflow.keras import models\n",
    "\n",
    "from sklearn.metrics import confusion_matrix\n"
   ]
  },
  {
   "cell_type": "markdown",
   "id": "chubby-height",
   "metadata": {},
   "source": [
    "## Loading the MNIST dataset"
   ]
  },
  {
   "cell_type": "code",
   "execution_count": 2,
   "id": "alleged-instruction",
   "metadata": {},
   "outputs": [],
   "source": [
    "mnist = tf.keras.datasets.mnist\n",
    "\n",
    "(x_train, y_train), (x_test, y_test) = mnist.load_data()\n",
    "\n",
    "# normalize images to [0, 1] range\n",
    "x_train, x_test = x_train / 255.0, x_test / 255.0\n",
    "\n",
    "# make sure images have shape (28, 28, 1). Note: -1 means expand on final axis\n",
    "x_train, x_test = np.expand_dims(x_train, -1), np.expand_dims(x_test, -1)\n"
   ]
  },
  {
   "cell_type": "markdown",
   "id": "fourth-poverty",
   "metadata": {},
   "source": [
    "## Visualizing the images"
   ]
  },
  {
   "cell_type": "code",
   "execution_count": 3,
   "id": "conservative-token",
   "metadata": {},
   "outputs": [
    {
     "data": {
      "image/png": "[encoded data removed]",
      "text/plain": [
       "<Figure size 720x720 with 10 Axes>"
      ]
     },
     "metadata": {},
     "output_type": "display_data"
    }
   ],
   "source": [
    "classes = range(10)\n",
    "\n",
    "plt.figure(figsize=(10,10))\n",
    "\n",
    "for i in range(10):\n",
    "    plt.subplot(5, 5, i+1)\n",
    "    plt.xticks([])\n",
    "    plt.yticks([])\n",
    "    plt.imshow(x_train[i], cmap=plt.cm.binary)\n",
    "    plt.xlabel(classes[y_train[i]])\n",
    "\n",
    "plt.show()"
   ]
  },
  {
   "cell_type": "markdown",
   "id": "honey-meeting",
   "metadata": {},
   "source": [
    "## Creating the model"
   ]
  },
  {
   "cell_type": "code",
   "execution_count": 4,
   "id": "intellectual-region",
   "metadata": {},
   "outputs": [
    {
     "name": "stdout",
     "output_type": "stream",
     "text": [
      "Model: \"sequential\"\n",
      "_________________________________________________________________\n",
      "Layer (type)                 Output Shape              Param #   \n",
      "=================================================================\n",
      "conv2d (Conv2D)              (None, 26, 26, 32)        320       \n",
      "_________________________________________________________________\n",
      "max_pooling2d (MaxPooling2D) (None, 13, 13, 32)        0         \n",
      "_________________________________________________________________\n",
      "conv2d_1 (Conv2D)            (None, 11, 11, 64)        18496     \n",
      "_________________________________________________________________\n",
      "max_pooling2d_1 (MaxPooling2 (None, 5, 5, 64)          0         \n",
      "_________________________________________________________________\n",
      "flatten (Flatten)            (None, 1600)              0         \n",
      "_________________________________________________________________\n",
      "dropout (Dropout)            (None, 1600)              0         \n",
      "_________________________________________________________________\n",
      "dense (Dense)                (None, 10)                16010     \n",
      "=================================================================\n",
      "Total params: 34,826\n",
      "Trainable params: 34,826\n",
      "Non-trainable params: 0\n",
      "_________________________________________________________________\n"
     ]
    }
   ],
   "source": [
    "model = models.Sequential()\n",
    "\n",
    "# Add two conv and max pooling layers\n",
    "model.add(\n",
    "    layers.Conv2D(32, (3, 3), activation='relu', input_shape=(28, 28, 1))\n",
    ")\n",
    "model.add(layers.MaxPooling2D((2, 2)))\n",
    "\n",
    "model.add(layers.Conv2D(64, (3, 3), activation='relu'))\n",
    "model.add(layers.MaxPooling2D((2,2)))\n",
    "          \n",
    "# Set up the FC layer\n",
    "model.add(layers.Flatten()) # need to flatten last conv layer \n",
    "model.add(layers.Dropout(0.5))\n",
    "model.add(layers.Dense(10)) # have 10 classes (labels)\n",
    "\n",
    "model.summary()"
   ]
  },
  {
   "cell_type": "markdown",
   "id": "helpful-spare",
   "metadata": {},
   "source": [
    "### What is Dropout?\n",
    "\n",
    "In machine learning a number of techiques exist to prevent overfitting. This is known as **regularization** with traditional methods such as L1 and L2 ([see here for more info](https://towardsdatascience.com/l1-and-l2-regularization-methods-ce25e7fc831c)). \n",
    "\n",
    "However, one type of overfitting can not be corrected by L1 and L2, known as **co-adaptation**.\n",
    "\n",
    "As a network trains, it is likely that some neurons in the network will yield more predictive power than others. As the training iterates, such neurons only become more stronger while the weaker ones are neglected. As a result only a fraction of the neurons in the network participate in the training. \n",
    "\n",
    "Dropout is a regularization technique that prevents co-adaption. During training at each iteration a set of neurons are temporary omitted. For more information about the math behind dropout please refer to the following article [here](https://towardsdatascience.com/simplified-math-behind-dropout-in-deep-learning-6d50f3f47275). Additionally, the following white paper is also worth a look [here](https://jmlr.org/papers/v15/srivastava14a.html)\n",
    "\n",
    "![Srivastava, Nitish, et al. ”Dropout: a simple way to prevent neural networks from\n",
    "overfitting”, JMLR 2014](https://miro.medium.com/max/2400/1*iWQzxhVlvadk6VAJjsgXgg.png)"
   ]
  },
  {
   "cell_type": "markdown",
   "id": "utility-craft",
   "metadata": {},
   "source": [
    "## Train the model"
   ]
  },
  {
   "cell_type": "code",
   "execution_count": 5,
   "id": "lightweight-eleven",
   "metadata": {},
   "outputs": [
    {
     "name": "stdout",
     "output_type": "stream",
     "text": [
      "Epoch 1/10\n",
      "1875/1875 [==============================] - 64s 34ms/step - loss: 1.2316 - accuracy: 0.5949 - val_loss: 0.1801 - val_accuracy: 0.9486\n",
      "Epoch 2/10\n",
      "1875/1875 [==============================] - 60s 32ms/step - loss: 0.2368 - accuracy: 0.9281 - val_loss: 0.1178 - val_accuracy: 0.9662\n",
      "Epoch 3/10\n",
      "1875/1875 [==============================] - 60s 32ms/step - loss: 0.1746 - accuracy: 0.9459 - val_loss: 0.0981 - val_accuracy: 0.9705\n",
      "Epoch 4/10\n",
      "1875/1875 [==============================] - 61s 32ms/step - loss: 0.1415 - accuracy: 0.9571 - val_loss: 0.0849 - val_accuracy: 0.9745\n",
      "Epoch 5/10\n",
      "1875/1875 [==============================] - 62s 33ms/step - loss: 0.1248 - accuracy: 0.9608 - val_loss: 0.0741 - val_accuracy: 0.9775\n",
      "Epoch 6/10\n",
      "1875/1875 [==============================] - 61s 33ms/step - loss: 0.1212 - accuracy: 0.9630 - val_loss: 0.0687 - val_accuracy: 0.9774\n",
      "Epoch 7/10\n",
      "1875/1875 [==============================] - 59s 31ms/step - loss: 0.1081 - accuracy: 0.9671 - val_loss: 0.0676 - val_accuracy: 0.9782\n",
      "Epoch 8/10\n",
      "1875/1875 [==============================] - 57s 30ms/step - loss: 0.1010 - accuracy: 0.9686 - val_loss: 0.0617 - val_accuracy: 0.9808\n",
      "Epoch 9/10\n",
      "1875/1875 [==============================] - 57s 30ms/step - loss: 0.0929 - accuracy: 0.9709 - val_loss: 0.0572 - val_accuracy: 0.9815\n",
      "Epoch 10/10\n",
      "1875/1875 [==============================] - 58s 31ms/step - loss: 0.0892 - accuracy: 0.9725 - val_loss: 0.0546 - val_accuracy: 0.9825\n",
      "INFO:tensorflow:Assets written to: my_model/assets\n"
     ]
    }
   ],
   "source": [
    "model.compile(\n",
    "    optimizer=\"sgd\", # stochastic gradient descent\n",
    "    loss=tf.keras.losses.SparseCategoricalCrossentropy(from_logits=True), # See comment below for more info\n",
    "    metrics=['accuracy']\n",
    ")\n",
    "\n",
    "# Logits: The vector of raw (non-normalized) predictions that a classification model generates.\n",
    "# Cross Entropy: see https://ml-cheatsheet.readthedocs.io/en/latest/loss_functions.html\n",
    "\n",
    "epochs = 10\n",
    "\n",
    "fit = model.fit(\n",
    "    x_train,\n",
    "    y_train,\n",
    "    epochs=epochs,\n",
    "    validation_data=(x_test, y_test)\n",
    ")\n",
    "\n",
    "history = fit.history\n",
    "\n",
    "model.save('my_model')\n",
    "np.save('my_history.npy', history)"
   ]
  },
  {
   "cell_type": "markdown",
   "id": "variable-bhutan",
   "metadata": {},
   "source": [
    "## Evaluate"
   ]
  },
  {
   "cell_type": "code",
   "execution_count": 3,
   "id": "portuguese-preliminary",
   "metadata": {},
   "outputs": [],
   "source": [
    "# Run this cell if you want to load a prev trained model\n",
    "model = models.load_model(\"my_model\")\n",
    "history = np.load('my_history.npy', allow_pickle=True).item()"
   ]
  },
  {
   "cell_type": "markdown",
   "id": "absent-regulation",
   "metadata": {},
   "source": [
    "### Loss"
   ]
  },
  {
   "cell_type": "code",
   "execution_count": 5,
   "id": "incorporate-carroll",
   "metadata": {},
   "outputs": [
    {
     "data": {
      "image/png": "[encoded data removed]",
      "text/plain": [
       "<Figure size 432x288 with 1 Axes>"
      ]
     },
     "metadata": {
      "needs_background": "light"
     },
     "output_type": "display_data"
    }
   ],
   "source": [
    "plt.plot(history['loss'], label='training')\n",
    "plt.xlabel('Epoch')\n",
    "plt.ylabel('Loss')\n",
    "plt.show()"
   ]
  },
  {
   "cell_type": "markdown",
   "id": "sweet-hunter",
   "metadata": {},
   "source": [
    "### Accuracy"
   ]
  },
  {
   "cell_type": "code",
   "execution_count": 13,
   "id": "massive-master",
   "metadata": {},
   "outputs": [
    {
     "data": {
      "image/png": "[encoded data removed]",
      "text/plain": [
       "<Figure size 432x288 with 1 Axes>"
      ]
     },
     "metadata": {
      "needs_background": "light"
     },
     "output_type": "display_data"
    }
   ],
   "source": [
    "plt.plot(history['accuracy'], label='training')\n",
    "plt.plot(history['val_accuracy'], label='test')\n",
    "plt.xlabel('Epoch')\n",
    "plt.ylabel('Accuracy')\n",
    "plt.ylim([0.8, 1])\n",
    "plt.legend(loc='lower right')\n",
    "plt.show()"
   ]
  },
  {
   "cell_type": "markdown",
   "id": "beginning-amazon",
   "metadata": {},
   "source": [
    "### Confusion matrix"
   ]
  },
  {
   "cell_type": "code",
   "execution_count": 8,
   "id": "grateful-express",
   "metadata": {},
   "outputs": [],
   "source": [
    "\n",
    "def plot_confusion_matrix(y_test,\n",
    "                          y_predict,\n",
    "                          classes,\n",
    "                          normalize=True,\n",
    "                          title='Confusion matrix',\n",
    "                          cmap=plt.cm.Blues):\n",
    "    \"\"\"\n",
    "    This function prints and plots the confusion matrix.\n",
    "    Normalization can be applied by setting `normalize=True`.\n",
    "    \"\"\"\n",
    "    cm = confusion_matrix(y_test, y_predict)\n",
    "\n",
    "    if normalize:\n",
    "        cm = cm.astype('float') / cm.sum(axis=1)[:, np.newaxis]\n",
    "\n",
    "    plt.imshow(cm, interpolation='nearest', cmap=cmap)\n",
    "    plt.title(title)\n",
    "    plt.colorbar()\n",
    "    tick_marks = np.arange(len(classes))\n",
    "    plt.xticks(tick_marks, classes, rotation=45)\n",
    "    plt.yticks(tick_marks, classes)\n",
    "\n",
    "    thresh = cm.max() / 2.\n",
    "    for i, j in itertools.product(range(cm.shape[0]), range(cm.shape[1])):\n",
    "        plt.text(\n",
    "            j,\n",
    "            i,\n",
    "            cm[i, j],\n",
    "            horizontalalignment=\"center\",\n",
    "            color=\"white\" if cm[i, j] > thresh else \"black\"\n",
    "        )\n",
    "\n",
    "    plt.tight_layout()\n",
    "    plt.ylabel('True label')\n",
    "    plt.xlabel('Predicted label')\n",
    "    plt.show()"
   ]
  },
  {
   "cell_type": "code",
   "execution_count": 9,
   "id": "plastic-cooling",
   "metadata": {},
   "outputs": [
    {
     "data": {
      "image/png": "[encoded data removed]",
      "text/plain": [
       "<Figure size 432x288 with 2 Axes>"
      ]
     },
     "metadata": {
      "needs_background": "light"
     },
     "output_type": "display_data"
    }
   ],
   "source": [
    "classes = range(10)\n",
    "\n",
    "predictions = model.predict(x_test)\n",
    "\n",
    "predictions = [np.argmax(p) for p in predictions]\n",
    "plot_confusion_matrix(predictions, y_test, classes, normalize=False)"
   ]
  },
  {
   "cell_type": "code",
   "execution_count": 12,
   "id": "smaller-behalf",
   "metadata": {},
   "outputs": [
    {
     "name": "stdout",
     "output_type": "stream",
     "text": [
      "---------- Training ----------\n",
      "loss: 0.0576\n",
      "accuracy: 0.9829\n",
      "----------   Test   ----------\n",
      "loss: 0.05\n",
      "accuracy: 0.9825\n"
     ]
    }
   ],
   "source": [
    "score = model.evaluate(x_train, y_train, verbose=0)\n",
    "print('---------- Training ----------')\n",
    "print(\"loss:\", round(score[0], 4))\n",
    "print(\"accuracy:\", round(score[1], 4))\n",
    "\n",
    "score = model.evaluate(x_test, y_test, verbose=0)\n",
    "print('----------   Test   ----------')\n",
    "print(\"loss:\", round(score[0], 2))\n",
    "print(\"accuracy:\", round(score[1], 4))"
   ]
  }
 ],
 "metadata": {
  "kernelspec": {
   "display_name": "Python 3",
   "language": "python",
   "name": "python3"
  },
  "language_info": {
   "codemirror_mode": {
    "name": "ipython",
    "version": 3
   },
   "file_extension": ".py",
   "mimetype": "text/x-python",
   "name": "python",
   "nbconvert_exporter": "python",
   "pygments_lexer": "ipython3",
   "version": "3.7.7"
  }
 },
 "nbformat": 4,
 "nbformat_minor": 5
}
