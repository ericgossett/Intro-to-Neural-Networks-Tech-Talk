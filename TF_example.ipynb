{
 "cells": [
  {
   "cell_type": "code",
   "execution_count": 1,
   "id": "inside-contact",
   "metadata": {},
   "outputs": [],
   "source": [
    "import itertools\n",
    "\n",
    "import tensorflow as tf\n",
    "import numpy as np\n",
    "import matplotlib as mpl\n",
    "import matplotlib.pyplot as plt\n",
    "\n",
    "from tensorflow.keras import datasets\n",
    "from tensorflow.keras import layers\n",
    "from tensorflow.keras import models\n",
    "\n",
    "from sklearn.metrics import confusion_matrix\n"
   ]
  },
  {
   "cell_type": "markdown",
   "id": "chubby-height",
   "metadata": {},
   "source": [
    "## Loading the MNIST dataset"
   ]
  },
  {
   "cell_type": "code",
   "execution_count": 3,
   "id": "alleged-instruction",
   "metadata": {},
   "outputs": [],
   "source": [
    "mnist = tf.keras.datasets.mnist\n",
    "\n",
    "(x_train, y_train), (x_test, y_test) = mnist.load_data()\n",
    "\n",
    "# normalize images to [0, 1] range\n",
    "x_train, x_test = x_train / 255.0, x_test / 255.0\n",
    "\n",
    "# make sure images have shape (28, 28, 1). Note: -1 means expand on final axis\n",
    "# x_train, x_test = np.expand_dims(x_train., -1), np.expand_dims(x_test, -1)\n"
   ]
  },
  {
   "cell_type": "markdown",
   "id": "fourth-poverty",
   "metadata": {},
   "source": [
    "## Visualizing the images"
   ]
  },
  {
   "cell_type": "code",
   "execution_count": 4,
   "id": "conservative-token",
   "metadata": {},
   "outputs": [
    {
     "data": {
      "image/png": "[encoded data removed]",
      "text/plain": [
       "<Figure size 720x720 with 10 Axes>"
      ]
     },
     "metadata": {},
     "output_type": "display_data"
    }
   ],
   "source": [
    "classes = range(10)\n",
    "\n",
    "plt.figure(figsize=(10,10))\n",
    "\n",
    "for i in range(10):\n",
    "    plt.subplot(5, 5, i+1)\n",
    "    plt.xticks([])\n",
    "    plt.yticks([])\n",
    "    plt.imshow(x_train[i], cmap=plt.cm.binary)\n",
    "    plt.xlabel(classes[y_train[i]])\n",
    "\n",
    "plt.show()"
   ]
  },
  {
   "cell_type": "code",
   "execution_count": 20,
   "id": "4cc5c449",
   "metadata": {},
   "outputs": [
    {
     "data": {
      "text/plain": [
       "(60000, 784)"
      ]
     },
     "execution_count": 20,
     "metadata": {},
     "output_type": "execute_result"
    }
   ],
   "source": [
    "# Flatten image matrix to feature vector\n",
    "x = x_train.reshape((x_train.shape[0], -1)) # -1 means infer dim. so it will find 28*28=784 \n",
    "x_train, x_test = x_train.reshape(x_train.shape[0], -1), x_test.reshape(x_test.shape[0], -1) \n",
    "x_train.shape\n"
   ]
  },
  {
   "cell_type": "markdown",
   "id": "honey-meeting",
   "metadata": {},
   "source": [
    "## Creating the model"
   ]
  },
  {
   "cell_type": "code",
   "execution_count": 22,
   "id": "intellectual-region",
   "metadata": {},
   "outputs": [
    {
     "name": "stdout",
     "output_type": "stream",
     "text": [
      "Model: \"sequential_4\"\n",
      "_________________________________________________________________\n",
      " Layer (type)                Output Shape              Param #   \n",
      "=================================================================\n",
      " dense_4 (Dense)             (None, 32)                25120     \n",
      "                                                                 \n",
      " dense_5 (Dense)             (None, 16)                528       \n",
      "                                                                 \n",
      " dense_6 (Dense)             (None, 10)                170       \n",
      "                                                                 \n",
      "=================================================================\n",
      "Total params: 25,818\n",
      "Trainable params: 25,818\n",
      "Non-trainable params: 0\n",
      "_________________________________________________________________\n"
     ]
    }
   ],
   "source": [
    "model = models.Sequential()\n",
    "\n",
    "model.add(layers.Dense(32, input_dim=784, activation='sigmoid'))\n",
    "model.add(layers.Dense(16,activation='sigmoid'))\n",
    "model.add(layers.Dense(10)) # have 10 classes (labels)\n",
    "\n",
    "model.summary()"
   ]
  },
  {
   "cell_type": "markdown",
   "id": "helpful-spare",
   "metadata": {},
   "source": [
    "### What is Dropout?\n",
    "\n",
    "In machine learning a number of techiques exist to prevent overfitting. This is known as **regularization** with traditional methods such as L1 and L2 ([see here for more info](https://towardsdatascience.com/l1-and-l2-regularization-methods-ce25e7fc831c)). \n",
    "\n",
    "However, one type of overfitting can not be corrected by L1 and L2, known as **co-adaptation**.\n",
    "\n",
    "As a network trains, it is likely that some neurons in the network will yield more predictive power than others. As the training iterates, such neurons only become more stronger while the weaker ones are neglected. As a result only a fraction of the neurons in the network participate in the training. \n",
    "\n",
    "Dropout is a regularization technique that prevents co-adaption. During training at each iteration a set of neurons are temporary omitted. For more information about the math behind dropout please refer to the following article [here](https://towardsdatascience.com/simplified-math-behind-dropout-in-deep-learning-6d50f3f47275). Additionally, the following white paper is also worth a look [here](https://jmlr.org/papers/v15/srivastava14a.html)\n",
    "\n",
    "![Srivastava, Nitish, et al. ”Dropout: a simple way to prevent neural networks from\n",
    "overfitting”, JMLR 2014](https://miro.medium.com/max/2400/1*iWQzxhVlvadk6VAJjsgXgg.png)"
   ]
  },
  {
   "cell_type": "markdown",
   "id": "utility-craft",
   "metadata": {},
   "source": [
    "## Train the model"
   ]
  },
  {
   "cell_type": "code",
   "execution_count": 37,
   "id": "lightweight-eleven",
   "metadata": {},
   "outputs": [
    {
     "name": "stdout",
     "output_type": "stream",
     "text": [
      "Epoch 1/10\n",
      "1875/1875 [==============================] - 6s 3ms/step - loss: 1.6965 - accuracy: 0.6827 - val_loss: 1.3014 - val_accuracy: 0.7553\n",
      "Epoch 2/10\n",
      "1875/1875 [==============================] - 4s 2ms/step - loss: 0.9956 - accuracy: 0.8312 - val_loss: 0.7710 - val_accuracy: 0.8599\n",
      "Epoch 3/10\n",
      "1875/1875 [==============================] - 4s 2ms/step - loss: 0.6540 - accuracy: 0.8724 - val_loss: 0.5669 - val_accuracy: 0.8800\n",
      "Epoch 4/10\n",
      "1875/1875 [==============================] - 4s 2ms/step - loss: 0.5140 - accuracy: 0.8902 - val_loss: 0.4662 - val_accuracy: 0.8955\n",
      "Epoch 5/10\n",
      "1875/1875 [==============================] - 12s 6ms/step - loss: 0.4362 - accuracy: 0.9016 - val_loss: 0.4090 - val_accuracy: 0.9046\n",
      "Epoch 6/10\n",
      "1875/1875 [==============================] - 6s 3ms/step - loss: 0.3909 - accuracy: 0.9077 - val_loss: 0.3733 - val_accuracy: 0.9096\n",
      "Epoch 7/10\n",
      "1875/1875 [==============================] - 5s 3ms/step - loss: 0.3609 - accuracy: 0.9116 - val_loss: 0.3490 - val_accuracy: 0.9130\n",
      "Epoch 8/10\n",
      "1875/1875 [==============================] - 7s 3ms/step - loss: 0.3390 - accuracy: 0.9151 - val_loss: 0.3303 - val_accuracy: 0.9163\n",
      "Epoch 9/10\n",
      "1875/1875 [==============================] - 5s 3ms/step - loss: 0.3221 - accuracy: 0.9179 - val_loss: 0.3159 - val_accuracy: 0.9194\n",
      "Epoch 10/10\n",
      "1875/1875 [==============================] - 5s 3ms/step - loss: 0.3085 - accuracy: 0.9204 - val_loss: 0.3041 - val_accuracy: 0.9214\n",
      "INFO:tensorflow:Assets written to: my_model/assets\n"
     ]
    }
   ],
   "source": [
    "model.compile(\n",
    "    optimizer=\"sgd\", # stochastic gradient descent\n",
    "    loss=tf.keras.losses.SparseCategoricalCrossentropy(from_logits=True), # See comment below for more info\n",
    "    metrics=['accuracy']\n",
    ")\n",
    "\n",
    "# Logits: The vector of raw (non-normalized) predictions that a classification model generates.\n",
    "# Cross Entropy: see https://ml-cheatsheet.readthedocs.io/en/latest/loss_functions.html\n",
    "\n",
    "epochs = 10\n",
    "\n",
    "fit = model.fit(\n",
    "    x_train,\n",
    "    y_train,\n",
    "    epochs=epochs,\n",
    "    validation_data=(x_test, y_test)\n",
    ")\n",
    "\n",
    "history = fit.history\n",
    "\n",
    "model.save('my_model')\n",
    "np.save('my_history.npy', history)"
   ]
  },
  {
   "cell_type": "markdown",
   "id": "variable-bhutan",
   "metadata": {},
   "source": [
    "## Evaluate"
   ]
  },
  {
   "cell_type": "code",
   "execution_count": 31,
   "id": "portuguese-preliminary",
   "metadata": {},
   "outputs": [],
   "source": [
    "# Run this cell if you want to load a prev trained model\n",
    "model = models.load_model(\"my_model\")\n",
    "history = np.load('my_history.npy', allow_pickle=True).item()"
   ]
  },
  {
   "cell_type": "markdown",
   "id": "absent-regulation",
   "metadata": {},
   "source": [
    "### Loss"
   ]
  },
  {
   "cell_type": "code",
   "execution_count": 38,
   "id": "incorporate-carroll",
   "metadata": {},
   "outputs": [
    {
     "data": {
      "image/png": "[encoded data removed]",
      "text/plain": [
       "<Figure size 432x288 with 1 Axes>"
      ]
     },
     "metadata": {
      "needs_background": "light"
     },
     "output_type": "display_data"
    }
   ],
   "source": [
    "plt.plot(history['loss'], label='training')\n",
    "plt.xlabel('Epoch')\n",
    "plt.ylabel('Loss')\n",
    "plt.show()"
   ]
  },
  {
   "cell_type": "markdown",
   "id": "sweet-hunter",
   "metadata": {},
   "source": [
    "### Accuracy"
   ]
  },
  {
   "cell_type": "code",
   "execution_count": 39,
   "id": "massive-master",
   "metadata": {},
   "outputs": [
    {
     "data": {
      "image/png": "[encoded data removed]",
      "text/plain": [
       "<Figure size 432x288 with 1 Axes>"
      ]
     },
     "metadata": {
      "needs_background": "light"
     },
     "output_type": "display_data"
    }
   ],
   "source": [
    "plt.plot(history['accuracy'], label='training')\n",
    "plt.plot(history['val_accuracy'], label='test')\n",
    "plt.xlabel('Epoch')\n",
    "plt.ylabel('Accuracy')\n",
    "plt.ylim([0.8, 1])\n",
    "plt.legend(loc='lower right')\n",
    "plt.show()"
   ]
  },
  {
   "cell_type": "markdown",
   "id": "beginning-amazon",
   "metadata": {},
   "source": [
    "### Confusion matrix"
   ]
  },
  {
   "cell_type": "code",
   "execution_count": 40,
   "id": "grateful-express",
   "metadata": {},
   "outputs": [],
   "source": [
    "\n",
    "def plot_confusion_matrix(y_test,\n",
    "                          y_predict,\n",
    "                          classes,\n",
    "                          normalize=True,\n",
    "                          title='Confusion matrix',\n",
    "                          cmap=plt.cm.Blues):\n",
    "    \"\"\"\n",
    "    This function prints and plots the confusion matrix.\n",
    "    Normalization can be applied by setting `normalize=True`.\n",
    "    \"\"\"\n",
    "    cm = confusion_matrix(y_test, y_predict)\n",
    "\n",
    "    if normalize:\n",
    "        cm = cm.astype('float') / cm.sum(axis=1)[:, np.newaxis]\n",
    "\n",
    "    plt.imshow(cm, interpolation='nearest', cmap=cmap)\n",
    "    plt.title(title)\n",
    "    plt.colorbar()\n",
    "    tick_marks = np.arange(len(classes))\n",
    "    plt.xticks(tick_marks, classes, rotation=45)\n",
    "    plt.yticks(tick_marks, classes)\n",
    "\n",
    "    thresh = cm.max() / 2.\n",
    "    for i, j in itertools.product(range(cm.shape[0]), range(cm.shape[1])):\n",
    "        plt.text(\n",
    "            j,\n",
    "            i,\n",
    "            cm[i, j],\n",
    "            horizontalalignment=\"center\",\n",
    "            color=\"white\" if cm[i, j] > thresh else \"black\"\n",
    "        )\n",
    "\n",
    "    plt.tight_layout()\n",
    "    plt.ylabel('True label')\n",
    "    plt.xlabel('Predicted label')\n",
    "    plt.show()"
   ]
  },
  {
   "cell_type": "code",
   "execution_count": 41,
   "id": "plastic-cooling",
   "metadata": {},
   "outputs": [
    {
     "name": "stdout",
     "output_type": "stream",
     "text": [
      "313/313 [==============================] - 1s 2ms/step\n"
     ]
    },
    {
     "data": {
      "image/png": "[encoded data removed]",
      "text/plain": [
       "<Figure size 432x288 with 2 Axes>"
      ]
     },
     "metadata": {
      "needs_background": "light"
     },
     "output_type": "display_data"
    }
   ],
   "source": [
    "classes = range(10)\n",
    "\n",
    "predictions = model.predict(x_test)\n",
    "\n",
    "predictions = [np.argmax(p) for p in predictions]\n",
    "plot_confusion_matrix(predictions, y_test, classes, normalize=False)"
   ]
  },
  {
   "cell_type": "code",
   "execution_count": 42,
   "id": "smaller-behalf",
   "metadata": {},
   "outputs": [
    {
     "name": "stdout",
     "output_type": "stream",
     "text": [
      "---------- Training ----------\n",
      "loss: 0.3018\n",
      "accuracy: 0.9219\n",
      "----------   Test   ----------\n",
      "loss: 0.3\n",
      "accuracy: 0.9214\n"
     ]
    }
   ],
   "source": [
    "score = model.evaluate(x_train, y_train, verbose=0)\n",
    "print('---------- Training ----------')\n",
    "print(\"loss:\", round(score[0], 4))\n",
    "print(\"accuracy:\", round(score[1], 4))\n",
    "\n",
    "score = model.evaluate(x_test, y_test, verbose=0)\n",
    "print('----------   Test   ----------')\n",
    "print(\"loss:\", round(score[0], 2))\n",
    "print(\"accuracy:\", round(score[1], 4))"
   ]
  },
  {
   "cell_type": "code",
   "execution_count": null,
   "id": "24189d62",
   "metadata": {},
   "outputs": [],
   "source": []
  }
 ],
 "metadata": {
  "kernelspec": {
   "display_name": "Python 3 (ipykernel)",
   "language": "python",
   "name": "python3"
  },
  "language_info": {
   "codemirror_mode": {
    "name": "ipython",
    "version": 3
   },
   "file_extension": ".py",
   "mimetype": "text/x-python",
   "name": "python",
   "nbconvert_exporter": "python",
   "pygments_lexer": "ipython3",
   "version": "3.9.4"
  }
 },
 "nbformat": 4,
 "nbformat_minor": 5
}
